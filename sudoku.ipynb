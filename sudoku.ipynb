{
 "cells": [
  {
   "cell_type": "code",
   "execution_count": 14,
   "source": [
    "import numpy as np\r\n",
    "from sudoku import sudoku\r\n",
    "import time as time"
   ],
   "outputs": [],
   "metadata": {}
  },
  {
   "cell_type": "code",
   "execution_count": 2,
   "source": [
    "puzzle = np.array([[0, 8, 5, 0, 1, 3, 0, 0, 9],\r\n",
    "       [6, 3, 4, 0, 0, 2, 1, 7, 5],\r\n",
    "       [0, 2, 0, 5, 7, 4, 0, 3, 0],\r\n",
    "       [2, 4, 8, 3, 6, 7, 9, 5, 1],\r\n",
    "       [9, 6, 0, 4, 5, 8, 0, 2, 3],\r\n",
    "       [3, 5, 7, 2, 0, 0, 4, 8, 0],\r\n",
    "       [5, 7, 3, 1, 0, 0, 8, 9, 2],\r\n",
    "       [4, 9, 6, 0, 2, 5, 3, 1, 0],\r\n",
    "       [8, 1, 2, 0, 3, 9, 5, 6, 4]])"
   ],
   "outputs": [],
   "metadata": {}
  },
  {
   "cell_type": "code",
   "execution_count": 3,
   "source": [
    "game = sudoku()\r\n",
    "game.sudoku_solver(puzzle)"
   ],
   "outputs": [
    {
     "output_type": "execute_result",
     "data": {
      "text/plain": [
       "array([[7, 8, 5, 6, 1, 3, 2, 4, 9],\n",
       "       [6, 3, 4, 9, 8, 2, 1, 7, 5],\n",
       "       [1, 2, 9, 5, 7, 4, 6, 3, 8],\n",
       "       [2, 4, 8, 3, 6, 7, 9, 5, 1],\n",
       "       [9, 6, 1, 4, 5, 8, 7, 2, 3],\n",
       "       [3, 5, 7, 2, 9, 1, 4, 8, 6],\n",
       "       [5, 7, 3, 1, 4, 6, 8, 9, 2],\n",
       "       [4, 9, 6, 8, 2, 5, 3, 1, 7],\n",
       "       [8, 1, 2, 7, 3, 9, 5, 6, 4]])"
      ]
     },
     "metadata": {},
     "execution_count": 3
    }
   ],
   "metadata": {}
  },
  {
   "cell_type": "code",
   "execution_count": 17,
   "source": [
    "results = {'very_easy':[], 'easy':[], 'medium':[], 'hard':[]}\r\n",
    "times = {'very_easy':[], 'easy':[], 'medium':[], 'hard':[]}\r\n",
    "\r\n",
    "for difficulty in ['very_easy', 'easy', 'medium', 'hard']:\r\n",
    "    sudokus = np.load(f\"test_files/{difficulty}_puzzle.npy\")\r\n",
    "    solutions = np.load(f\"test_files/{difficulty}_solution.npy\")\r\n",
    "    for i in range(len(sudokus)):\r\n",
    "        sudoku = sudokus[i].copy()\r\n",
    "        start_time = time.process_time()\r\n",
    "        answer = game.sudoku_solver(sudoku)\r\n",
    "        end_time = time.process_time()\r\n",
    "\r\n",
    "        times[difficulty].append(end_time - start_time)\r\n",
    "\r\n",
    "        if np.array_equal(answer, solutions[i]):\r\n",
    "            results[difficulty].append(True)\r\n",
    "        else:\r\n",
    "            results[difficulty].append(False)\r\n",
    "\r\n",
    "print(results)\r\n",
    "print(times)"
   ],
   "outputs": [
    {
     "output_type": "stream",
     "name": "stdout",
     "text": [
      "{'very_easy': [True, True, True], 'easy': [True, True, True], 'medium': [True, True, True], 'hard': [True, True, True]}\n",
      "{'very_easy': [0.0, 0.015625, 0.0], 'easy': [0.0, 0.0, 0.015625], 'medium': [0.0, 0.0, 0.015625], 'hard': [2.140625, 9.171875, 5.59375]}\n"
     ]
    }
   ],
   "metadata": {}
  },
  {
   "cell_type": "code",
   "execution_count": null,
   "source": [],
   "outputs": [],
   "metadata": {}
  }
 ],
 "metadata": {
  "orig_nbformat": 4,
  "language_info": {
   "name": "python",
   "version": "3.8.10",
   "mimetype": "text/x-python",
   "codemirror_mode": {
    "name": "ipython",
    "version": 3
   },
   "pygments_lexer": "ipython3",
   "nbconvert_exporter": "python",
   "file_extension": ".py"
  },
  "kernelspec": {
   "name": "python3",
   "display_name": "Python 3.8.10 64-bit ('base': conda)"
  },
  "interpreter": {
   "hash": "b3ba2566441a7c06988d0923437866b63cedc61552a5af99d1f4fb67d367b25f"
  }
 },
 "nbformat": 4,
 "nbformat_minor": 2
}